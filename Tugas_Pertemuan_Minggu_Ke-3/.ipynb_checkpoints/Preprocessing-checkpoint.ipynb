{
 "cells": [
  {
   "cell_type": "code",
   "execution_count": 1,
   "id": "c5c85863-1f08-4d6d-ba37-7a8c0449eec2",
   "metadata": {},
   "outputs": [],
   "source": [
    "import numpy as np\n",
    "import matplotlib.pyplot as plt\n",
    "import pandas as pd"
   ]
  },
  {
   "cell_type": "code",
   "execution_count": 2,
   "id": "2fc83db5-83fe-4493-aa5a-7d0524d0ca65",
   "metadata": {},
   "outputs": [],
   "source": [
    "dataset = pd.read_csv('Data.csv')\n",
    "X = dataset.iloc[:, :-1].values\n",
    "y = dataset.iloc[:, -1].values"
   ]
  },
  {
   "cell_type": "code",
   "execution_count": 3,
   "id": "bd9f2c84-c428-4363-8f2b-4716c1677b53",
   "metadata": {},
   "outputs": [
    {
     "name": "stdout",
     "output_type": "stream",
     "text": [
      "[['France' 44.0 72000.0]\n",
      " ['Spain' nan 48000.0]\n",
      " ['Germany' 30.0 54000.0]\n",
      " ['Spain' 38.0 nan]\n",
      " ['Germany' 40.0 64000.0]\n",
      " ['France' nan 58000.0]\n",
      " ['Spain' 39.0 52000.0]\n",
      " ['France' 48.0 nan]\n",
      " ['Germany' 50.0 83000.0]\n",
      " ['France' 37.0 72000.0]\n",
      " ['Spain' 60.0 67000.0]\n",
      " ['Germany' 32.0 nan]\n",
      " ['Spain' nan 80000.0]\n",
      " ['France' 28.0 67000.0]]\n"
     ]
    }
   ],
   "source": [
    "print(X)"
   ]
  },
  {
   "cell_type": "code",
   "execution_count": 4,
   "id": "7fa1139f-e98d-462f-9e4d-e9a90a53612e",
   "metadata": {},
   "outputs": [
    {
     "name": "stdout",
     "output_type": "stream",
     "text": [
      "['No' 'Yes' 'No' 'No' 'Yes' 'Yes' 'No' 'Yes' 'No' 'Yes' 'Yes' 'No' 'Yes'\n",
      " 'No']\n"
     ]
    }
   ],
   "source": [
    "print(y)"
   ]
  },
  {
   "cell_type": "code",
   "execution_count": 5,
   "id": "241a1d69-3a91-414c-8d7d-0c8f51699573",
   "metadata": {},
   "outputs": [],
   "source": [
    "from sklearn.impute import SimpleImputer\n",
    "imputer = SimpleImputer(missing_values=np.nan, strategy='mean')\n",
    "imputer.fit(X[:, 1:3])\n",
    "X[:, 1:3] = imputer.transform(X[:, 1:3])"
   ]
  },
  {
   "cell_type": "code",
   "execution_count": 6,
   "id": "e8ec42d4-2b8e-4883-9240-1a5666f4bf75",
   "metadata": {},
   "outputs": [
    {
     "name": "stdout",
     "output_type": "stream",
     "text": [
      "[['France' 44.0 72000.0]\n",
      " ['Spain' 40.54545454545455 48000.0]\n",
      " ['Germany' 30.0 54000.0]\n",
      " ['Spain' 38.0 65181.818181818184]\n",
      " ['Germany' 40.0 64000.0]\n",
      " ['France' 40.54545454545455 58000.0]\n",
      " ['Spain' 39.0 52000.0]\n",
      " ['France' 48.0 65181.818181818184]\n",
      " ['Germany' 50.0 83000.0]\n",
      " ['France' 37.0 72000.0]\n",
      " ['Spain' 60.0 67000.0]\n",
      " ['Germany' 32.0 65181.818181818184]\n",
      " ['Spain' 40.54545454545455 80000.0]\n",
      " ['France' 28.0 67000.0]]\n"
     ]
    }
   ],
   "source": [
    "print(X)"
   ]
  },
  {
   "cell_type": "code",
   "execution_count": 7,
   "id": "3b82322a-ed47-415f-934a-36b24b3d8bab",
   "metadata": {},
   "outputs": [],
   "source": [
    "from sklearn.compose import ColumnTransformer\n",
    "from sklearn.preprocessing import OneHotEncoder\n",
    "ct = ColumnTransformer(transformers=[('encoder', OneHotEncoder(), [0])], remainder='passthrough')\n",
    "X = np.array(ct.fit_transform(X))"
   ]
  },
  {
   "cell_type": "code",
   "execution_count": 8,
   "id": "94a3a5a3-b309-4c71-ae67-7e1e1624eca8",
   "metadata": {},
   "outputs": [
    {
     "name": "stdout",
     "output_type": "stream",
     "text": [
      "[[1.0 0.0 0.0 44.0 72000.0]\n",
      " [0.0 0.0 1.0 40.54545454545455 48000.0]\n",
      " [0.0 1.0 0.0 30.0 54000.0]\n",
      " [0.0 0.0 1.0 38.0 65181.818181818184]\n",
      " [0.0 1.0 0.0 40.0 64000.0]\n",
      " [1.0 0.0 0.0 40.54545454545455 58000.0]\n",
      " [0.0 0.0 1.0 39.0 52000.0]\n",
      " [1.0 0.0 0.0 48.0 65181.818181818184]\n",
      " [0.0 1.0 0.0 50.0 83000.0]\n",
      " [1.0 0.0 0.0 37.0 72000.0]\n",
      " [0.0 0.0 1.0 60.0 67000.0]\n",
      " [0.0 1.0 0.0 32.0 65181.818181818184]\n",
      " [0.0 0.0 1.0 40.54545454545455 80000.0]\n",
      " [1.0 0.0 0.0 28.0 67000.0]]\n"
     ]
    }
   ],
   "source": [
    "print(X)"
   ]
  },
  {
   "cell_type": "code",
   "execution_count": 9,
   "id": "a1dc7cce-9ebd-4c74-9ca4-a0617151b588",
   "metadata": {},
   "outputs": [],
   "source": [
    "from sklearn.preprocessing import LabelEncoder\n",
    "le = LabelEncoder()\n",
    "y = le.fit_transform(y)"
   ]
  },
  {
   "cell_type": "code",
   "execution_count": 10,
   "id": "f001d636-cc46-42c4-ba0c-ae75556364fb",
   "metadata": {},
   "outputs": [
    {
     "name": "stdout",
     "output_type": "stream",
     "text": [
      "[0 1 0 0 1 1 0 1 0 1 1 0 1 0]\n"
     ]
    }
   ],
   "source": [
    "print(y)"
   ]
  },
  {
   "cell_type": "code",
   "execution_count": 11,
   "id": "18ef5210-36bb-4131-8f36-d05d40a02172",
   "metadata": {},
   "outputs": [],
   "source": [
    "from sklearn.model_selection import train_test_split\n",
    "X_train, X_test, y_train, y_test = train_test_split(X, y, test_size = 0.2, random_state = 1)"
   ]
  },
  {
   "cell_type": "code",
   "execution_count": 12,
   "id": "ec2b07db-5ac4-4000-9fb7-9ef81d763f02",
   "metadata": {},
   "outputs": [
    {
     "name": "stdout",
     "output_type": "stream",
     "text": [
      "[[0.0 1.0 0.0 30.0 54000.0]\n",
      " [0.0 0.0 1.0 60.0 67000.0]\n",
      " [0.0 1.0 0.0 40.0 64000.0]\n",
      " [0.0 0.0 1.0 40.54545454545455 48000.0]\n",
      " [0.0 0.0 1.0 40.54545454545455 80000.0]\n",
      " [1.0 0.0 0.0 44.0 72000.0]\n",
      " [1.0 0.0 0.0 28.0 67000.0]\n",
      " [1.0 0.0 0.0 37.0 72000.0]\n",
      " [0.0 1.0 0.0 50.0 83000.0]\n",
      " [0.0 1.0 0.0 32.0 65181.818181818184]\n",
      " [1.0 0.0 0.0 40.54545454545455 58000.0]]\n"
     ]
    }
   ],
   "source": [
    "print(X_train)"
   ]
  },
  {
   "cell_type": "code",
   "execution_count": 13,
   "id": "bc8affb1-e66f-465b-84a9-e02279aead56",
   "metadata": {},
   "outputs": [
    {
     "name": "stdout",
     "output_type": "stream",
     "text": [
      "[[0.0 0.0 1.0 38.0 65181.818181818184]\n",
      " [1.0 0.0 0.0 48.0 65181.818181818184]\n",
      " [0.0 0.0 1.0 39.0 52000.0]]\n"
     ]
    }
   ],
   "source": [
    "print(X_test)"
   ]
  },
  {
   "cell_type": "code",
   "execution_count": 14,
   "id": "1578319c-0fea-4085-9971-8f4be9cee490",
   "metadata": {},
   "outputs": [
    {
     "name": "stdout",
     "output_type": "stream",
     "text": [
      "[0 1 1 1 1 0 0 1 0 0 1]\n"
     ]
    }
   ],
   "source": [
    "print(y_train)"
   ]
  },
  {
   "cell_type": "code",
   "execution_count": 15,
   "id": "e8d73771-6bdf-479d-b307-aaab267de899",
   "metadata": {},
   "outputs": [
    {
     "name": "stdout",
     "output_type": "stream",
     "text": [
      "[0 1 0]\n"
     ]
    }
   ],
   "source": [
    "print(y_test)"
   ]
  },
  {
   "cell_type": "code",
   "execution_count": 16,
   "id": "e79479d5-3583-4be4-a8c7-d63147acf816",
   "metadata": {},
   "outputs": [],
   "source": [
    "from sklearn.preprocessing import StandardScaler\n",
    "sc = StandardScaler()\n",
    "X_train[:, 3:] = sc.fit_transform(X_train[:, 3:])\n",
    "X_test[:, 3:] = sc.transform(X_test[:, 3:])"
   ]
  },
  {
   "cell_type": "code",
   "execution_count": 17,
   "id": "332fa2c2-7608-460e-8933-bc2fb4c608c6",
   "metadata": {},
   "outputs": [
    {
     "name": "stdout",
     "output_type": "stream",
     "text": [
      "[[0.0 1.0 0.0 -1.1764997180043586 -1.2413616307400563]\n",
      " [0.0 0.0 1.0 2.270388075664585 0.06215094946962905]\n",
      " [0.0 1.0 0.0 -0.02753712011471076 -0.2386596459633753]\n",
      " [0.0 0.0 1.0 0.03513356704290655 -1.842982821606065]\n",
      " [0.0 0.0 1.0 0.03513356704290655 1.3656635296793145]\n",
      " [1.0 0.0 0.0 0.4320479190411484 0.5635019418579696]\n",
      " [1.0 0.0 0.0 -1.4062922375822882 0.06215094946962905]\n",
      " [1.0 0.0 0.0 -0.3722258994816051 0.5635019418579696]\n",
      " [0.0 1.0 0.0 1.121425477774937 1.666474125112319]\n",
      " [0.0 1.0 0.0 -0.9467071984264291 -0.12015850230794914]\n",
      " [1.0 0.0 0.0 0.03513356704290655 -0.8402808368293839]]\n"
     ]
    }
   ],
   "source": [
    "print(X_train)"
   ]
  },
  {
   "cell_type": "code",
   "execution_count": 18,
   "id": "4f5910a8-6a48-4393-8071-0500152587f1",
   "metadata": {},
   "outputs": [
    {
     "name": "stdout",
     "output_type": "stream",
     "text": [
      "[[0.0 0.0 1.0 -0.25732963969264033 -0.12015850230794914]\n",
      " [1.0 0.0 0.0 0.8916329581970076 -0.12015850230794914]\n",
      " [0.0 0.0 1.0 -0.14243337990367555 -1.4419020276953927]]\n"
     ]
    }
   ],
   "source": [
    "print(X_test)"
   ]
  },
  {
   "cell_type": "code",
   "execution_count": null,
   "id": "0dd58761-249c-48fd-ba5a-a151c81432da",
   "metadata": {},
   "outputs": [],
   "source": []
  }
 ],
 "metadata": {
  "kernelspec": {
   "display_name": "Python 3 (ipykernel)",
   "language": "python",
   "name": "python3"
  },
  "language_info": {
   "codemirror_mode": {
    "name": "ipython",
    "version": 3
   },
   "file_extension": ".py",
   "mimetype": "text/x-python",
   "name": "python",
   "nbconvert_exporter": "python",
   "pygments_lexer": "ipython3",
   "version": "3.11.7"
  }
 },
 "nbformat": 4,
 "nbformat_minor": 5
}
